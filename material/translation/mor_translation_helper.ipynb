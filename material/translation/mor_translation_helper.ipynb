{
 "cells": [
  {
   "cell_type": "code",
   "execution_count": 16,
   "id": "1d037d82",
   "metadata": {},
   "outputs": [],
   "source": [
    "# Imports\n",
    "import json\n",
    "import csv"
   ]
  },
  {
   "cell_type": "markdown",
   "id": "313970b9",
   "metadata": {},
   "source": [
    "# Json to CSV transformation"
   ]
  },
  {
   "cell_type": "code",
   "execution_count": 12,
   "id": "56c7302b",
   "metadata": {},
   "outputs": [],
   "source": [
    "# Parameters\n",
    "input_file = \"mor_en.json\"\n",
    "output_file = \"mor_en_translation.csv\""
   ]
  },
  {
   "cell_type": "code",
   "execution_count": 13,
   "id": "e6c7cd9f",
   "metadata": {},
   "outputs": [],
   "source": [
    "en_json_data = json.load(open(input_file, encoding = \"ISO-8859-1\"))"
   ]
  },
  {
   "cell_type": "code",
   "execution_count": 14,
   "id": "89d79128",
   "metadata": {},
   "outputs": [],
   "source": [
    "with open(output_file, 'w', newline='') as csvfile:\n",
    "    fieldnames = ['label', 'value_en']\n",
    "    writer = csv.DictWriter(csvfile, fieldnames=fieldnames)\n",
    "    writer.writeheader()\n",
    "    \n",
    "    for record_name in en_json_data.keys():\n",
    "        label = f\"{record_name}_en_label\"\n",
    "        value = en_json_data[record_name][\"en\"][\"label\"]\n",
    "        writer.writerow({'label': label, 'value_en': value})\n",
    "        \n",
    "        label = f\"{record_name}_en_description\"\n",
    "        value = en_json_data[record_name][\"en\"][\"description\"]\n",
    "        writer.writerow({'label': label, 'value_en': value})\n",
    "        "
   ]
  },
  {
   "cell_type": "markdown",
   "id": "6042561d",
   "metadata": {},
   "source": [
    "# Excel to JSON transformation"
   ]
  },
  {
   "cell_type": "code",
   "execution_count": null,
   "id": "0db92c70",
   "metadata": {},
   "outputs": [],
   "source": []
  }
 ],
 "metadata": {
  "kernelspec": {
   "display_name": "Python [conda env:de4a] *",
   "language": "python",
   "name": "conda-env-de4a-py"
  },
  "language_info": {
   "codemirror_mode": {
    "name": "ipython",
    "version": 3
   },
   "file_extension": ".py",
   "mimetype": "text/x-python",
   "name": "python",
   "nbconvert_exporter": "python",
   "pygments_lexer": "ipython3",
   "version": "3.9.7"
  }
 },
 "nbformat": 4,
 "nbformat_minor": 5
}
